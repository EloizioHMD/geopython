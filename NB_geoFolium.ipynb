{
  "nbformat": 4,
  "nbformat_minor": 0,
  "metadata": {
    "colab": {
      "provenance": [],
      "authorship_tag": "ABX9TyNAypVYceXqHpizwkU/BE+V",
      "include_colab_link": true
    },
    "kernelspec": {
      "name": "python3",
      "display_name": "Python 3"
    },
    "language_info": {
      "name": "python"
    }
  },
  "cells": [
    {
      "cell_type": "markdown",
      "metadata": {
        "id": "view-in-github",
        "colab_type": "text"
      },
      "source": [
        "<a href=\"https://colab.research.google.com/github/EloizioHMD/geopython/blob/main/NB_geoFolium.ipynb\" target=\"_parent\"><img src=\"https://colab.research.google.com/assets/colab-badge.svg\" alt=\"Open In Colab\"/></a>"
      ]
    },
    {
      "cell_type": "markdown",
      "source": [
        "# Dados geográficos: visualização de mapas com Folium\n",
        "\n",
        "Notebook compilado a partir das aulas ministrada por João Vitor de Miranda no Alura, cujo objetivo foram:\n",
        "\n",
        "* Manipule dados geográficos usando o GeoPandas\n",
        "* Construa visualizações interativas com mapas usando o Folium\n",
        "* Crie visualização de mapas a partir de camadas e adicione controles para personalizar a visualização\n",
        "* Ins1ira marcadores personalizados a partir de coordenadas geográficas em mapas usando o Folium\n",
        "* Crie mapas de calor e mapas coropléticos com Folium\n",
        "* Insira informações textuais e estatísticas em visualizações de mapas\n",
        "\n",
        "## Considerações\n",
        "\n",
        "No curso foi usado o geopandas na versão 0.13.2, porém optei por fazer usando a vesão disponível no Colab que é a versão 1.0.1. Demais considerações relativa a fonte de dados do IBGE e do Datario."
      ],
      "metadata": {
        "id": "8HYHQ1lifCh-"
      }
    },
    {
      "cell_type": "markdown",
      "source": [
        "## Pré instalação"
      ],
      "metadata": {
        "id": "r6akTM5Nf3j7"
      }
    },
    {
      "cell_type": "code",
      "source": [
        "pip show geopandas"
      ],
      "metadata": {
        "colab": {
          "base_uri": "https://localhost:8080/"
        },
        "id": "ClQgzz-7f2_d",
        "outputId": "832f041a-3d22-4c1a-a0c6-08dcfbbccb55"
      },
      "execution_count": 2,
      "outputs": [
        {
          "output_type": "stream",
          "name": "stdout",
          "text": [
            "Name: geopandas\n",
            "Version: 1.0.1\n",
            "Summary: Geographic pandas extensions\n",
            "Home-page: \n",
            "Author: \n",
            "Author-email: Kelsey Jordahl <kjordahl@alum.mit.edu>\n",
            "License: BSD 3-Clause\n",
            "Location: /usr/local/lib/python3.10/dist-packages\n",
            "Requires: numpy, packaging, pandas, pyogrio, pyproj, shapely\n",
            "Required-by: bigframes\n"
          ]
        }
      ]
    },
    {
      "cell_type": "code",
      "execution_count": 3,
      "metadata": {
        "colab": {
          "base_uri": "https://localhost:8080/"
        },
        "id": "RGP9099ee2Hi",
        "outputId": "407083bd-1fa7-4c61-a823-8bd66b0f5141"
      },
      "outputs": [
        {
          "output_type": "stream",
          "name": "stdout",
          "text": [
            "Name: folium\n",
            "Version: 0.17.0\n",
            "Summary: Make beautiful maps with Leaflet.js & Python\n",
            "Home-page: https://github.com/python-visualization/folium\n",
            "Author: Rob Story\n",
            "Author-email: wrobstory@gmail.com\n",
            "License: MIT\n",
            "Location: /usr/local/lib/python3.10/dist-packages\n",
            "Requires: branca, jinja2, numpy, requests, xyzservices\n",
            "Required-by: datascience, geemap\n"
          ]
        }
      ],
      "source": [
        "pip show folium"
      ]
    },
    {
      "cell_type": "markdown",
      "source": [
        "## O projeto\n",
        "\n",
        "O projeto para analisar a oferta de imóveis no município do Rio de Janeiro. Para isso, iremos utilizar a biblioteca Folium para criar visualizações de mapas interativos, que nos permitirão analisar os dados dos imóveis."
      ],
      "metadata": {
        "id": "A8E6Vt77h7HJ"
      }
    },
    {
      "cell_type": "code",
      "source": [
        "import geopandas as gpd"
      ],
      "metadata": {
        "id": "jLr_avfjfCSn"
      },
      "execution_count": 4,
      "outputs": []
    },
    {
      "cell_type": "code",
      "source": [],
      "metadata": {
        "id": "TOa0brUUiOia"
      },
      "execution_count": null,
      "outputs": []
    }
  ]
}